{
 "cells": [
  {
   "cell_type": "code",
   "execution_count": 1,
   "metadata": {},
   "outputs": [
    {
     "name": "stdout",
     "output_type": "stream",
     "text": [
      "hello world\n"
     ]
    }
   ],
   "source": [
    "print('hello world')"
   ]
  },
  {
   "attachments": {},
   "cell_type": "markdown",
   "metadata": {},
   "source": [
    "### This is demo "
   ]
  },
  {
   "cell_type": "code",
   "execution_count": 5,
   "metadata": {},
   "outputs": [
    {
     "name": "stdout",
     "output_type": "stream",
     "text": [
      "[24, 2, 4, 5]\n"
     ]
    }
   ],
   "source": [
    "def intersection(nums1, nums2):\n",
    "    set1=set(nums1)\n",
    "    set2=set(nums2)\n",
    "    set3=set1.intersection(set2)\n",
    "    return list(set3)\n",
    "\n",
    "s1=[1,2,4,5,3,24,23,5]\n",
    "s2=[2,4,24,5,6]\n",
    "\n",
    "print(intersection(s1,s2))\n",
    "\n"
   ]
  },
  {
   "cell_type": "code",
   "execution_count": 8,
   "metadata": {},
   "outputs": [
    {
     "name": "stdout",
     "output_type": "stream",
     "text": [
      "8\n"
     ]
    }
   ],
   "source": [
    "haystack = 'thisissoorganized'\n",
    "needle='organ'\n",
    "\n",
    "def strstr(haystack, needle):\n",
    "    return haystack.find(needle)\n",
    "\n",
    "print(strstr(haystack, needle))"
   ]
  },
  {
   "cell_type": "code",
   "execution_count": 11,
   "metadata": {},
   "outputs": [
    {
     "name": "stdout",
     "output_type": "stream",
     "text": [
      "-1\n"
     ]
    }
   ],
   "source": [
    "haystack = 'thisissoorganized'\n",
    "needle='org1an'\n",
    "def strstr1(haystack,needle):\n",
    "    for i in range (len(haystack) - len(needle) + 1):\n",
    "        if haystack[i:i+len(needle)]==needle:\n",
    "            return i\n",
    "    return -1\n",
    "print(strstr1(haystack, needle))\n",
    "\n"
   ]
  },
  {
   "cell_type": "code",
   "execution_count": null,
   "metadata": {},
   "outputs": [],
   "source": [
    "def containsduplicae(nums):\n",
    "    hset = set()\n",
    "    for elem in nums:\n",
    "        if elem in hset:\n",
    "            return True\n",
    "        else:\n",
    "            hset.add(elem)\n",
    "    return false\n",
    "\n",
    "\n",
    "def containsduplciate1(nums):\n",
    "    set1=set(nums)\n",
    "    if len(set1) == len(nums):\n",
    "        return False\n",
    "    return True"
   ]
  },
  {
   "cell_type": "code",
   "execution_count": 17,
   "metadata": {},
   "outputs": [
    {
     "name": "stdout",
     "output_type": "stream",
     "text": [
      "2\n"
     ]
    }
   ],
   "source": [
    "\n",
    "def majoritE(nums):\n",
    "    freq = dict()\n",
    "    for elem in nums:\n",
    "        if elem in freq:\n",
    "            freq[elem]+=1\n",
    "        else:\n",
    "            freq[elem]=1\n",
    "    for key in freq.keys():\n",
    "        if freq[key] > (len(nums)/2):\n",
    "            return key\n",
    "    return -1\n",
    "nums = [1,2,2,3,2,2]\n",
    "print(majoritE(nums))"
   ]
  },
  {
   "cell_type": "code",
   "execution_count": 22,
   "metadata": {},
   "outputs": [
    {
     "name": "stdout",
     "output_type": "stream",
     "text": [
      "7 {2: 0, 7: 1, 11: 2, 15: 3} 1 0\n",
      "[0, 1]\n"
     ]
    }
   ],
   "source": [
    "def twoSum(nums, target):\n",
    "    dict1={}\n",
    "    for i in range(len(nums)):\n",
    "        dict1[nums[i]] = i\n",
    "    for i in range(len(nums)):\n",
    "        complement = target - nums[i]\n",
    "        print (complement,dict1,dict1[complement], i)\n",
    "        if complement in dict1 and dict1[complement] !=i:\n",
    "            return [i, dict1[complement]]\n",
    "nums=[2,7,11,15]\n",
    "target=9\n",
    "print(twoSum(nums,target))\n",
    "        "
   ]
  },
  {
   "cell_type": "code",
   "execution_count": 23,
   "metadata": {},
   "outputs": [
    {
     "name": "stdout",
     "output_type": "stream",
     "text": [
      "Codin\n",
      "Coding\n",
      "nuFsIgnidoC\n"
     ]
    }
   ],
   "source": [
    "String = 'CodingIsFun'\n",
    "\n",
    "# Using indexing sequence\n",
    "print(String[:5])\n",
    "print(String[:6])\n",
    "print(String[::-1])"
   ]
  },
  {
   "cell_type": "code",
   "execution_count": 24,
   "metadata": {},
   "outputs": [
    {
     "name": "stdout",
     "output_type": "stream",
     "text": [
      "15\n"
     ]
    }
   ],
   "source": [
    "my_tuple = (8, 7)\n",
    "my_dict = {my_tuple: 15}\n",
    "\n",
    "print(my_dict[my_tuple])"
   ]
  },
  {
   "cell_type": "code",
   "execution_count": 25,
   "metadata": {},
   "outputs": [],
   "source": [
    "a=[2, -6, 3, 4, -5]\n",
    "a.sort()"
   ]
  },
  {
   "cell_type": "code",
   "execution_count": 26,
   "metadata": {},
   "outputs": [
    {
     "name": "stdout",
     "output_type": "stream",
     "text": [
      "[-6, -5, 2, 3, 4]\n"
     ]
    }
   ],
   "source": [
    "print (a)"
   ]
  },
  {
   "cell_type": "code",
   "execution_count": null,
   "metadata": {},
   "outputs": [],
   "source": [
    "dict1 = {}\n",
    "for i in a:\n",
    "    if i in dict1:\n",
    "        dict1[i] +=1\n",
    "    else:\n",
    "        dict1[i] = 1\n",
    "    \n"
   ]
  },
  {
   "cell_type": "code",
   "execution_count": 32,
   "metadata": {},
   "outputs": [
    {
     "ename": "AttributeError",
     "evalue": "'list' object has no attribute 'set'",
     "output_type": "error",
     "traceback": [
      "\u001b[0;31m---------------------------------------------------------------------------\u001b[0m",
      "\u001b[0;31mAttributeError\u001b[0m                            Traceback (most recent call last)",
      "Cell \u001b[0;32mIn[32], line 14\u001b[0m\n\u001b[1;32m     12\u001b[0m     list1\u001b[38;5;241m.\u001b[39mappend(dict1[i])\n\u001b[1;32m     13\u001b[0m list1 \u001b[38;5;241m=\u001b[39m \u001b[38;5;28mlist\u001b[39m(list1)    \n\u001b[0;32m---> 14\u001b[0m list1 \u001b[38;5;241m=\u001b[39m \u001b[43mlist1\u001b[49m\u001b[38;5;241;43m.\u001b[39;49m\u001b[43mset\u001b[49m()\n\u001b[1;32m     15\u001b[0m maxvote\u001b[38;5;241m=\u001b[39mlist1\u001b[38;5;241m.\u001b[39mpop()\n\u001b[1;32m     17\u001b[0m \u001b[38;5;28;01mfor\u001b[39;00m j \u001b[38;5;129;01min\u001b[39;00m dict1\u001b[38;5;241m.\u001b[39mkeys():\n",
      "\u001b[0;31mAttributeError\u001b[0m: 'list' object has no attribute 'set'"
     ]
    }
   ],
   "source": [
    "votes = [\"sam\", \"john\", \"jamie\", \"sam\"]\n",
    "dict1 = {}\n",
    "list1 = []\n",
    "lsit2= []\n",
    "for i in votes:\n",
    "    if i in dict1:\n",
    "        dict1[i]+=1\n",
    "    else:\n",
    "        dict1[i] = 1\n",
    "    \n",
    "for i in dict1.keys():\n",
    "    list1.append(dict1[i])\n",
    "list1 = list(list1)    \n",
    "list1 = list1.set()\n",
    "maxvote=list1.pop()\n",
    "    \n",
    "for j in dict1.keys():\n",
    "    if dict1[j]==maxvote:\n",
    "        list2.append(j)\n",
    "    \n",
    "list2.set()\n",
    "    \n",
    "print (list2)"
   ]
  },
  {
   "cell_type": "code",
   "execution_count": 33,
   "metadata": {},
   "outputs": [
    {
     "name": "stdout",
     "output_type": "stream",
     "text": [
      "{3}\n"
     ]
    }
   ],
   "source": [
    "set1={2,5,3}\n",
    "set2={3,1}\n",
    "set3={}\n",
    "set3=set1&set2\n",
    "print(set3)"
   ]
  },
  {
   "cell_type": "code",
   "execution_count": 34,
   "metadata": {},
   "outputs": [
    {
     "name": "stdout",
     "output_type": "stream",
     "text": [
      "6\n"
     ]
    }
   ],
   "source": [
    "str1 = \"my isname isisis jameis isis bond\";\n",
    "sub = \"is\";\n",
    "print(str1.count(sub, 4))"
   ]
  },
  {
   "cell_type": "code",
   "execution_count": 45,
   "metadata": {},
   "outputs": [
    {
     "ename": "AttributeError",
     "evalue": "'function' object has no attribute 'roar'",
     "output_type": "error",
     "traceback": [
      "\u001b[0;31m---------------------------------------------------------------------------\u001b[0m",
      "\u001b[0;31mAttributeError\u001b[0m                            Traceback (most recent call last)",
      "Cell \u001b[0;32mIn[45], line 7\u001b[0m\n\u001b[1;32m      4\u001b[0m             \u001b[38;5;28mprint\u001b[39m(\u001b[38;5;124m\"\u001b[39m\u001b[38;5;124mWoof\u001b[39m\u001b[38;5;124m\"\u001b[39m);\n\u001b[1;32m      6\u001b[0m my_dog \u001b[38;5;241m=\u001b[39m Dog()\n\u001b[0;32m----> 7\u001b[0m \u001b[43mmy_dog\u001b[49m\u001b[38;5;241;43m.\u001b[39;49m\u001b[43mbark\u001b[49m\u001b[38;5;241;43m.\u001b[39;49m\u001b[43mroar\u001b[49m()\n",
      "\u001b[0;31mAttributeError\u001b[0m: 'function' object has no attribute 'roar'"
     ]
    }
   ],
   "source": [
    "class Dog():\n",
    "    def bark(self):\n",
    "        def roar(self):\n",
    "            print(\"Woof\");\n",
    "\n",
    "my_dog = Dog()\n",
    "my_dog.bark.roar()"
   ]
  },
  {
   "cell_type": "code",
   "execution_count": 48,
   "metadata": {},
   "outputs": [
    {
     "name": "stdout",
     "output_type": "stream",
     "text": [
      "Birds fly\n",
      "Fishs can swim\n"
     ]
    }
   ],
   "source": [
    "class Bird:\n",
    "    def fly(self):\n",
    "        print(\"Birds fly\")\n",
    "\n",
    "class Fish:\n",
    "    def swim(self):\n",
    "        print(\"Fishs can swim\")\n",
    "\n",
    "class FlySwim (Bird, Fish):\n",
    "    pass\n",
    "\n",
    "ff = FlySwim()\n",
    "ff.fly()\n",
    "ff.swim()\n"
   ]
  },
  {
   "cell_type": "code",
   "execution_count": null,
   "metadata": {},
   "outputs": [],
   "source": [
    "class car:\n",
    "    wheels = 4 #Public\n",
    "    _color = \"red\" #Protected\n",
    "    --engine = \"V8\" #Private\n"
   ]
  },
  {
   "cell_type": "code",
   "execution_count": 53,
   "metadata": {},
   "outputs": [
    {
     "name": "stdout",
     "output_type": "stream",
     "text": [
      "3\n",
      "69\n"
     ]
    }
   ],
   "source": [
    "class calculator:\n",
    "    def add(self, a, b, c=0):\n",
    "        return a + b + c\n",
    "\n",
    "calc = calculator()\n",
    "print(calc.add(1,2))\n",
    "print(calc.add(45,23, 1))\n"
   ]
  },
  {
   "cell_type": "code",
   "execution_count": 64,
   "metadata": {},
   "outputs": [],
   "source": [
    "class Animal:\n",
    "    def speak(self):\n",
    "        print(\"Generic Animal sound\")\n",
    "\n",
    "class dog(Animal):\n",
    "    def speak1(self):\n",
    "        print(\"woof\")\n",
    "my_dog = dog\n"
   ]
  },
  {
   "cell_type": "code",
   "execution_count": 69,
   "metadata": {},
   "outputs": [
    {
     "name": "stdout",
     "output_type": "stream",
     "text": [
      "15\n"
     ]
    }
   ],
   "source": [
    "def outer_function():\n",
    "    nonlocal_var = 10\n",
    "\n",
    "    def inner_function():\n",
    "        nonlocal nonlocal_var\n",
    "        nonlocal_var +=5\n",
    "    inner_function()\n",
    "    print(nonlocal_var)\n",
    "outer_function()\n",
    "#print(nonlocal_var)\n",
    "        "
   ]
  },
  {
   "cell_type": "code",
   "execution_count": 73,
   "metadata": {},
   "outputs": [
    {
     "name": "stdout",
     "output_type": "stream",
     "text": [
      "20\n",
      "20\n"
     ]
    }
   ],
   "source": [
    "global_var = 20\n",
    "def example_function():\n",
    "    print (global_var)\n",
    "example_function()\n",
    "print (global_var)\n",
    "\n"
   ]
  },
  {
   "cell_type": "raw",
   "metadata": {},
   "source": [
    "numbers = [4,2,9,1,5]\n",
    "sorted_numbers = sorted(numbers)\n",
    "print(sorted_numbers)\n",
    "print(numbers)\n",
    "numbers.sort()\n",
    "print(numbers)"
   ]
  },
  {
   "cell_type": "code",
   "execution_count": 75,
   "metadata": {},
   "outputs": [
    {
     "name": "stdout",
     "output_type": "stream",
     "text": [
      "['banana', 'cherry', 'apple', 'date', 'fig']\n"
     ]
    }
   ],
   "source": [
    "words = [\"apple\", \"banana\", \"cherry\", \"date\", \"fig\"]\n",
    "sorted_words = sorted(words, key=len,reverse=True)\n",
    "print(sorted_words)"
   ]
  },
  {
   "cell_type": "code",
   "execution_count": 81,
   "metadata": {},
   "outputs": [
    {
     "name": "stdout",
     "output_type": "stream",
     "text": [
      "5.0\n",
      "finally  5.0\n"
     ]
    }
   ],
   "source": [
    "def divide(a,b):\n",
    "    if b==0:\n",
    "        raise ValueError(\"Cannot divide by zero\")\n",
    "    return a/b\n",
    "try:\n",
    "    result = divide(10, 2)\n",
    "\n",
    "except ValueError as e:\n",
    "    print(e)\n",
    "else:\n",
    "    print(result)\n",
    "finally:\n",
    "    print('finally ', result)\n"
   ]
  },
  {
   "cell_type": "code",
   "execution_count": 91,
   "metadata": {},
   "outputs": [
    {
     "ename": "NameError",
     "evalue": "name 'exception' is not defined",
     "output_type": "error",
     "traceback": [
      "\u001b[0;31m---------------------------------------------------------------------------\u001b[0m",
      "\u001b[0;31mNameError\u001b[0m                                 Traceback (most recent call last)",
      "Cell \u001b[0;32mIn[91], line 1\u001b[0m\n\u001b[0;32m----> 1\u001b[0m \u001b[38;5;28;01mclass\u001b[39;00m \u001b[38;5;21;01mCustomError\u001b[39;00m(\u001b[43mexception\u001b[49m):\n\u001b[1;32m      2\u001b[0m     \u001b[38;5;28;01mdef\u001b[39;00m \u001b[38;5;21minit\u001b[39m (\u001b[38;5;28mself\u001b[39m, message):\n\u001b[1;32m      3\u001b[0m         \u001b[38;5;28mself\u001b[39m\u001b[38;5;241m.\u001b[39mmessage \u001b[38;5;241m=\u001b[39m message\n",
      "\u001b[0;31mNameError\u001b[0m: name 'exception' is not defined"
     ]
    }
   ],
   "source": [
    "class CustomError(exception):\n",
    "    def init (self, message):\n",
    "        self.message = message\n",
    "try:\n",
    "    raise CustomError(\"This is a custom error\")\n",
    "except CustomError as e:\n",
    "    print(e.message)\n",
    "with op"
   ]
  },
  {
   "cell_type": "code",
   "execution_count": 92,
   "metadata": {},
   "outputs": [
    {
     "ename": "FileNotFoundError",
     "evalue": "[Errno 2] No such file or directory: 'example.txt'",
     "output_type": "error",
     "traceback": [
      "\u001b[0;31m---------------------------------------------------------------------------\u001b[0m",
      "\u001b[0;31mFileNotFoundError\u001b[0m                         Traceback (most recent call last)",
      "Cell \u001b[0;32mIn[92], line 1\u001b[0m\n\u001b[0;32m----> 1\u001b[0m \u001b[38;5;28;01mwith\u001b[39;00m \u001b[38;5;28;43mopen\u001b[39;49m\u001b[43m(\u001b[49m\u001b[38;5;124;43m\"\u001b[39;49m\u001b[38;5;124;43mexample.txt\u001b[39;49m\u001b[38;5;124;43m\"\u001b[39;49m\u001b[43m,\u001b[49m\u001b[43m \u001b[49m\u001b[38;5;124;43m\"\u001b[39;49m\u001b[38;5;124;43mr\u001b[39;49m\u001b[38;5;124;43m\"\u001b[39;49m\u001b[43m)\u001b[49m \u001b[38;5;28;01mas\u001b[39;00m file:\n\u001b[1;32m      2\u001b[0m     \u001b[38;5;28;01mfor\u001b[39;00m line \u001b[38;5;129;01min\u001b[39;00m file\u001b[38;5;241m.\u001b[39mreadlines():\n\u001b[1;32m      3\u001b[0m         \u001b[38;5;28mprint\u001b[39m(line\u001b[38;5;241m.\u001b[39mstrip())\n",
      "File \u001b[0;32m/Library/Frameworks/Python.framework/Versions/3.11/lib/python3.11/site-packages/IPython/core/interactiveshell.py:284\u001b[0m, in \u001b[0;36m_modified_open\u001b[0;34m(file, *args, **kwargs)\u001b[0m\n\u001b[1;32m    277\u001b[0m \u001b[38;5;28;01mif\u001b[39;00m file \u001b[38;5;129;01min\u001b[39;00m {\u001b[38;5;241m0\u001b[39m, \u001b[38;5;241m1\u001b[39m, \u001b[38;5;241m2\u001b[39m}:\n\u001b[1;32m    278\u001b[0m     \u001b[38;5;28;01mraise\u001b[39;00m \u001b[38;5;167;01mValueError\u001b[39;00m(\n\u001b[1;32m    279\u001b[0m         \u001b[38;5;124mf\u001b[39m\u001b[38;5;124m\"\u001b[39m\u001b[38;5;124mIPython won\u001b[39m\u001b[38;5;124m'\u001b[39m\u001b[38;5;124mt let you open fd=\u001b[39m\u001b[38;5;132;01m{\u001b[39;00mfile\u001b[38;5;132;01m}\u001b[39;00m\u001b[38;5;124m by default \u001b[39m\u001b[38;5;124m\"\u001b[39m\n\u001b[1;32m    280\u001b[0m         \u001b[38;5;124m\"\u001b[39m\u001b[38;5;124mas it is likely to crash IPython. If you know what you are doing, \u001b[39m\u001b[38;5;124m\"\u001b[39m\n\u001b[1;32m    281\u001b[0m         \u001b[38;5;124m\"\u001b[39m\u001b[38;5;124myou can use builtins\u001b[39m\u001b[38;5;124m'\u001b[39m\u001b[38;5;124m open.\u001b[39m\u001b[38;5;124m\"\u001b[39m\n\u001b[1;32m    282\u001b[0m     )\n\u001b[0;32m--> 284\u001b[0m \u001b[38;5;28;01mreturn\u001b[39;00m \u001b[43mio_open\u001b[49m\u001b[43m(\u001b[49m\u001b[43mfile\u001b[49m\u001b[43m,\u001b[49m\u001b[43m \u001b[49m\u001b[38;5;241;43m*\u001b[39;49m\u001b[43margs\u001b[49m\u001b[43m,\u001b[49m\u001b[43m \u001b[49m\u001b[38;5;241;43m*\u001b[39;49m\u001b[38;5;241;43m*\u001b[39;49m\u001b[43mkwargs\u001b[49m\u001b[43m)\u001b[49m\n",
      "\u001b[0;31mFileNotFoundError\u001b[0m: [Errno 2] No such file or directory: 'example.txt'"
     ]
    }
   ],
   "source": [
    "with open(\"example.txt\", \"r\") as file:\n",
    "    for line in file.readlines():\n",
    "        print(line.strip())"
   ]
  },
  {
   "cell_type": "code",
   "execution_count": 93,
   "metadata": {},
   "outputs": [
    {
     "ename": "FileNotFoundError",
     "evalue": "[Errno 2] No such file or directory: 'example.txt'",
     "output_type": "error",
     "traceback": [
      "\u001b[0;31m---------------------------------------------------------------------------\u001b[0m",
      "\u001b[0;31mFileNotFoundError\u001b[0m                         Traceback (most recent call last)",
      "Cell \u001b[0;32mIn[93], line 1\u001b[0m\n\u001b[0;32m----> 1\u001b[0m file \u001b[38;5;241m=\u001b[39m \u001b[38;5;28;43mopen\u001b[39;49m\u001b[43m(\u001b[49m\u001b[38;5;124;43m\"\u001b[39;49m\u001b[38;5;124;43mexample.txt\u001b[39;49m\u001b[38;5;124;43m\"\u001b[39;49m\u001b[43m,\u001b[49m\u001b[43m \u001b[49m\u001b[38;5;124;43m\"\u001b[39;49m\u001b[38;5;124;43mr\u001b[39;49m\u001b[38;5;124;43m\"\u001b[39;49m\u001b[43m)\u001b[49m\n\u001b[1;32m      2\u001b[0m content \u001b[38;5;241m=\u001b[39m file\u001b[38;5;241m.\u001b[39mread()\n\u001b[1;32m      3\u001b[0m \u001b[38;5;28mprint\u001b[39m(content)\n",
      "File \u001b[0;32m/Library/Frameworks/Python.framework/Versions/3.11/lib/python3.11/site-packages/IPython/core/interactiveshell.py:284\u001b[0m, in \u001b[0;36m_modified_open\u001b[0;34m(file, *args, **kwargs)\u001b[0m\n\u001b[1;32m    277\u001b[0m \u001b[38;5;28;01mif\u001b[39;00m file \u001b[38;5;129;01min\u001b[39;00m {\u001b[38;5;241m0\u001b[39m, \u001b[38;5;241m1\u001b[39m, \u001b[38;5;241m2\u001b[39m}:\n\u001b[1;32m    278\u001b[0m     \u001b[38;5;28;01mraise\u001b[39;00m \u001b[38;5;167;01mValueError\u001b[39;00m(\n\u001b[1;32m    279\u001b[0m         \u001b[38;5;124mf\u001b[39m\u001b[38;5;124m\"\u001b[39m\u001b[38;5;124mIPython won\u001b[39m\u001b[38;5;124m'\u001b[39m\u001b[38;5;124mt let you open fd=\u001b[39m\u001b[38;5;132;01m{\u001b[39;00mfile\u001b[38;5;132;01m}\u001b[39;00m\u001b[38;5;124m by default \u001b[39m\u001b[38;5;124m\"\u001b[39m\n\u001b[1;32m    280\u001b[0m         \u001b[38;5;124m\"\u001b[39m\u001b[38;5;124mas it is likely to crash IPython. If you know what you are doing, \u001b[39m\u001b[38;5;124m\"\u001b[39m\n\u001b[1;32m    281\u001b[0m         \u001b[38;5;124m\"\u001b[39m\u001b[38;5;124myou can use builtins\u001b[39m\u001b[38;5;124m'\u001b[39m\u001b[38;5;124m open.\u001b[39m\u001b[38;5;124m\"\u001b[39m\n\u001b[1;32m    282\u001b[0m     )\n\u001b[0;32m--> 284\u001b[0m \u001b[38;5;28;01mreturn\u001b[39;00m \u001b[43mio_open\u001b[49m\u001b[43m(\u001b[49m\u001b[43mfile\u001b[49m\u001b[43m,\u001b[49m\u001b[43m \u001b[49m\u001b[38;5;241;43m*\u001b[39;49m\u001b[43margs\u001b[49m\u001b[43m,\u001b[49m\u001b[43m \u001b[49m\u001b[38;5;241;43m*\u001b[39;49m\u001b[38;5;241;43m*\u001b[39;49m\u001b[43mkwargs\u001b[49m\u001b[43m)\u001b[49m\n",
      "\u001b[0;31mFileNotFoundError\u001b[0m: [Errno 2] No such file or directory: 'example.txt'"
     ]
    }
   ],
   "source": [
    "file = open(\"example.txt\", \"r\")\n",
    "content = file.read()\n",
    "print(content)\n",
    "file.close()"
   ]
  },
  {
   "cell_type": "code",
   "execution_count": null,
   "metadata": {},
   "outputs": [],
   "source": [
    "lines = [\"first\\n\", \"second\\n\"]\n",
    "with open(\"output.txt\", \"w\") as file:\n",
    "    file.writelines(lines)\n"
   ]
  },
  {
   "cell_type": "code",
   "execution_count": null,
   "metadata": {},
   "outputs": [],
   "source": [
    "json.dump(): \n",
    "json.dumps()\n",
    "json.load()\n",
    "json.loads()\n"
   ]
  },
  {
   "cell_type": "code",
   "execution_count": 1,
   "metadata": {},
   "outputs": [
    {
     "name": "stdout",
     "output_type": "stream",
     "text": [
      "E001\n",
      "25\n"
     ]
    }
   ],
   "source": [
    "class Employee:\n",
    "    def __init__(self,id,age):\n",
    "        self.id=id\n",
    "        self.age=age\n",
    "    \n",
    "    def printDetails(self):\n",
    "        print(self.id)\n",
    "        print(self.age)\n",
    "\n",
    "emp1=Employee('E001',25)\n",
    "emp1.printDetails()"
   ]
  },
  {
   "cell_type": "code",
   "execution_count": 2,
   "metadata": {},
   "outputs": [
    {
     "name": "stdout",
     "output_type": "stream",
     "text": [
      "30\n"
     ]
    }
   ],
   "source": [
    "class Employee:\n",
    "    def __init__(self,id,age):\n",
    "        self.id=id\n",
    "        self.age=age\n",
    "    \n",
    "    def printID(self):\n",
    "        print(self.id)\n",
    "    \n",
    "    def printAge(abc):\n",
    "        print(abc.age)\n",
    "\n",
    "\n",
    "emp1=Employee('E001',30)\n",
    "emp1.printAge()"
   ]
  },
  {
   "cell_type": "code",
   "execution_count": 3,
   "metadata": {},
   "outputs": [
    {
     "name": "stdout",
     "output_type": "stream",
     "text": [
      "This is except block\n",
      "This is finally block\n"
     ]
    }
   ],
   "source": [
    "x = 500\n",
    "y = 0\n",
    "z = 0\n",
    "\n",
    "try:\n",
    "    z = x/y\n",
    "except:\n",
    "    print('This is except block')\n",
    "else:\n",
    "    print('This is else block')\n",
    "finally:\n",
    "    print('This is finally block')"
   ]
  },
  {
   "cell_type": "code",
   "execution_count": 9,
   "metadata": {},
   "outputs": [
    {
     "name": "stdout",
     "output_type": "stream",
     "text": [
      "10 11\n",
      "21\n",
      "21\n"
     ]
    }
   ],
   "source": [
    "global a, b\n",
    "a = 10\n",
    "b = 11\n",
    "\n",
    "def add(a1,b1):\n",
    "    print (a1,b1)\n",
    "    c = a1 + b1\n",
    "    print (c)\n",
    "    return c\n",
    "\n",
    "print(add(a,b))"
   ]
  },
  {
   "cell_type": "code",
   "execution_count": 13,
   "metadata": {},
   "outputs": [
    {
     "name": "stdout",
     "output_type": "stream",
     "text": [
      "Not sorted: ['Michigan', 'San Francisco', 'Chicago']\n",
      "Sorted: ['Chicago', 'Michigan', 'San Francisco']\n"
     ]
    }
   ],
   "source": [
    "def cust_sort_fun(strs):\n",
    "    def key_funcs(s):\n",
    "        return len(s)\n",
    "    sorted_strs = sorted(strs, key=key_funcs)\n",
    "    return sorted_strs\n",
    "\n",
    "\n",
    "str1 = [\"Michigan\", \"San Francisco\", \"Chicago\"]\n",
    "\n",
    "sorted_strs = cust_sort_fun(str1)\n",
    "\n",
    "\n",
    "print(\"Not sorted:\",  str1)\n",
    "\n",
    "print(\"Sorted:\", sorted_strs)"
   ]
  },
  {
   "cell_type": "code",
   "execution_count": null,
   "metadata": {},
   "outputs": [],
   "source": [
    "with open(\"FileToFindMaxLengthWord.txt\", \"r\") as file1:\n",
    "\n",
    "\tfile_line = split(file1.readline())\n",
    "\n",
    "\tdict1 = dict()\n",
    "\n",
    "\tfor i in range(len(file_line)):\n",
    "\n",
    "       dict1[file_line[i]] = len(file_line[i])\n",
    "\n",
    "list1 = []\n",
    "\n",
    "for i in dict1.keys():\n",
    "\n",
    "   list1.append(dict1[i])\n",
    "\n",
    "list1 = list(list1)   \n",
    "\n",
    "list1 = list1.set()\n",
    "\n",
    "wordWithMaxLength=list1.pop()"
   ]
  },
  {
   "cell_type": "code",
   "execution_count": 4,
   "metadata": {},
   "outputs": [],
   "source": [
    "import numpy as np\n",
    "\n",
    "arr = np.random.randint(1, 101, 100)                                                                                                                                                                                                                                                                                                                                                                                                                                                                                                                                                                                                                                                                                                                                                                                                                                                                                                                                                                                                                                           .reshape(10, -1)"
   ]
  },
  {
   "cell_type": "code",
   "execution_count": 5,
   "metadata": {},
   "outputs": [
    {
     "data": {
      "text/plain": [
       "(100,)"
      ]
     },
     "execution_count": 5,
     "metadata": {},
     "output_type": "execute_result"
    }
   ],
   "source": [
    "arr.shape"
   ]
  },
  {
   "cell_type": "code",
   "execution_count": 8,
   "metadata": {},
   "outputs": [],
   "source": []
  },
  {
   "cell_type": "code",
   "execution_count": null,
   "metadata": {},
   "outputs": [],
   "source": []
  }
 ],
 "metadata": {
  "kernelspec": {
   "display_name": "Python 3 (ipykernel)",
   "language": "python",
   "name": "python3"
  },
  "language_info": {
   "codemirror_mode": {
    "name": "ipython",
    "version": 3
   },
   "file_extension": ".py",
   "mimetype": "text/x-python",
   "name": "python",
   "nbconvert_exporter": "python",
   "pygments_lexer": "ipython3",
   "version": "3.11.4"
  }
 },
 "nbformat": 4,
 "nbformat_minor": 4
}
